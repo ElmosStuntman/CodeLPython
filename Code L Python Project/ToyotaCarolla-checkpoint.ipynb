{
 "cells": [
  {
   "cell_type": "code",
   "execution_count": 25,
   "metadata": {},
   "outputs": [],
   "source": [
    "## Goal of project is to use data to prove that RED colored cars are often more expensive that other colors\n",
    "## to do so I will load a CSV/Excel file with data from several car sales, average the price of each color \n",
    "## I will then display results into a bar graph representing average price per color to hopefully confirm my theory"
   ]
  },
  {
   "cell_type": "code",
   "execution_count": 26,
   "metadata": {},
   "outputs": [],
   "source": [
    "import sqlite3\n",
    "import sys\n",
    "import pandas as pd\n",
    "import json\n",
    "import os\n",
    "import matplotlib.pyplot as plt\n",
    "import numpy as np\n",
    "from IPython.display import Markdown, display\n",
    "import calendar\n",
    "from math import pi\n",
    "from bokeh.plotting import figure, show, output_notebook, ColumnDataSource\n",
    "\n",
    "\n",
    "\n",
    "\n",
    "def printmd(string):\n",
    "    display(Markdown(string))"
   ]
  },
  {
   "cell_type": "code",
   "execution_count": 27,
   "metadata": {},
   "outputs": [
    {
     "ename": "OperationalError",
     "evalue": "table cars already exists",
     "output_type": "error",
     "traceback": [
      "\u001b[1;31m---------------------------------------------------------------------------\u001b[0m",
      "\u001b[1;31mOperationalError\u001b[0m                          Traceback (most recent call last)",
      "\u001b[1;32m<ipython-input-27-1d52dd3fa326>\u001b[0m in \u001b[0;36m<module>\u001b[1;34m\u001b[0m\n\u001b[0;32m      6\u001b[0m \u001b[0msql_create\u001b[0m \u001b[1;33m=\u001b[0m \u001b[1;34m'''CREATE TABLE cars (id INTEGER PRIMARY KEY, Model TEXT, Price INT, Age_08_04 INTEGER, Color TEXT);'''\u001b[0m\u001b[1;33m\u001b[0m\u001b[1;33m\u001b[0m\u001b[0m\n\u001b[0;32m      7\u001b[0m \u001b[1;33m\u001b[0m\u001b[0m\n\u001b[1;32m----> 8\u001b[1;33m \u001b[0mc\u001b[0m\u001b[1;33m.\u001b[0m\u001b[0mexecute\u001b[0m\u001b[1;33m(\u001b[0m\u001b[0msql_create\u001b[0m\u001b[1;33m)\u001b[0m\u001b[1;33m\u001b[0m\u001b[1;33m\u001b[0m\u001b[0m\n\u001b[0m",
      "\u001b[1;31mOperationalError\u001b[0m: table cars already exists"
     ]
    }
   ],
   "source": [
    "conn = sqlite3.connect(\"carolla3.db\")\n",
    "c = conn.cursor()\n",
    "\n",
    "# Create table to hold car data to be imported from CSV file\n",
    "\n",
    "sql_create = '''CREATE TABLE cars (id INTEGER PRIMARY KEY, Model TEXT, Price INT, Age_08_04 INTEGER, Color TEXT);'''\n",
    "\n",
    "c.execute(sql_create)\n"
   ]
  },
  {
   "cell_type": "code",
   "execution_count": 28,
   "metadata": {},
   "outputs": [],
   "source": [
    "#Selected a CSV file for Toyota camry sales that I got from a data base. Includes age of car, color, price, and model."
   ]
  },
  {
   "cell_type": "code",
   "execution_count": 29,
   "metadata": {
    "scrolled": true
   },
   "outputs": [],
   "source": [
    "\n",
    "\n",
    "# load cars into sqlite table\n",
    "filepath = 'Excel/ToyotaCorolla(1).csv'\n",
    "\n",
    "# read csv file\n",
    "toyota_df = pd.read_csv(filepath, parse_dates=['Model'], usecols=['Model', 'Price', 'Age_08_04', 'Color'])\n",
    "\n",
    "\n",
    "# append any data to match file\n",
    "toyota_df.to_sql(\"cars\", conn, if_exists = \"append\", index=False)"
   ]
  },
  {
   "cell_type": "code",
   "execution_count": null,
   "metadata": {},
   "outputs": [],
   "source": []
  },
  {
   "cell_type": "code",
   "execution_count": 30,
   "metadata": {},
   "outputs": [
    {
     "name": "stdout",
     "output_type": "stream",
     "text": [
      "[('Beige', 8933.333333333334), ('Black', 11053.848167539267), ('Blue', 10836.43816254417), ('Green', 9836.10909090909), ('Grey', 11927.34219269103), ('Red', 9962.697841726618), ('Silver', 11070.680327868853), ('Violet', 9575.0), ('White', 8207.90322580645), ('Yellow', 12531.666666666666)]\n"
     ]
    }
   ],
   "source": [
    "# select line to grab Average price of cars grouped by each color.\n",
    "\n",
    "\n",
    "\n",
    "sql_average = '''select color, avg(price) \n",
    "from cars \n",
    "where price not null \n",
    "group by color'''\n",
    "\n",
    "\n",
    "c.execute(sql_average)\n",
    "\n",
    "results = c.fetchall()\n",
    "print(results)"
   ]
  },
  {
   "cell_type": "code",
   "execution_count": 31,
   "metadata": {},
   "outputs": [
    {
     "data": {
      "image/png": "[encoded data removed]",
      "text/plain": [
       "<Figure size 432x288 with 1 Axes>"
      ]
     },
     "metadata": {
      "needs_background": "light"
     },
     "output_type": "display_data"
    }
   ],
   "source": [
    "#plot information from select line into bar graph to make is more visually appealing\n",
    "\n",
    "objects = ('Beige', 'Black', 'Blue', 'green', 'grey', 'red', 'silver', 'violet', 'White', 'yellow')\n",
    "y_pos = np.arange(len(objects))\n",
    "performance = [8933,11053,10836,9836,11927,9962,11070,9575,8207,12531]\n",
    "\n",
    "plt.bar(y_pos, performance, align='center', alpha=.75)\n",
    "plt.xticks(y_pos, objects)\n",
    "plt.ylabel('Price')\n",
    "plt.title('Average Price of car by color')\n",
    "\n",
    "plt.show()"
   ]
  },
  {
   "cell_type": "code",
   "execution_count": 32,
   "metadata": {},
   "outputs": [],
   "source": [
    "## Inconclusion on Average the price of red cars sits in the middle of of the pack where Yellow cars average to be the\n",
    "## most expensive, and Beige is not that common."
   ]
  },
  {
   "cell_type": "code",
   "execution_count": 33,
   "metadata": {},
   "outputs": [],
   "source": [
    "### How could I improve?\n",
    "# The Datatset chosen does not include milage as a factor, grouping cars by mileage aswell as color would give a more accurate reading.\n",
    "# Also making sure my data base is not tampered with, I later found out that Most of the models did not offer the Carolla in Yellow.\n",
    "# This cuases the amount of entries for yellow car to be limited. The limited smaple amounts cuases the average to change drastically with the addition of one new car.\n",
    "# Unlike the Grey colored cars that are so readily available one new addition does not chamge the the avarage as much.\n",
    "\n",
    "### Thank you!"
   ]
  },
  {
   "cell_type": "code",
   "execution_count": null,
   "metadata": {},
   "outputs": [],
   "source": []
  }
 ],
 "metadata": {
  "kernelspec": {
   "display_name": "Python 3",
   "language": "python",
   "name": "python3"
  },
  "language_info": {
   "codemirror_mode": {
    "name": "ipython",
    "version": 3
   },
   "file_extension": ".py",
   "mimetype": "text/x-python",
   "name": "python",
   "nbconvert_exporter": "python",
   "pygments_lexer": "ipython3",
   "version": "3.7.3"
  }
 },
 "nbformat": 4,
 "nbformat_minor": 2
}
